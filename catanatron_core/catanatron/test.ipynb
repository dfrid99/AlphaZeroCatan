{
 "cells": [
  {
   "cell_type": "code",
   "execution_count": 2,
   "metadata": {},
   "outputs": [
    {
     "name": "stderr",
     "output_type": "stream",
     "text": [
      "/Users/davidfrid/miniconda3/lib/python3.11/site-packages/tqdm/auto.py:21: TqdmWarning: IProgress not found. Please update jupyter and ipywidgets. See https://ipywidgets.readthedocs.io/en/stable/user_install.html\n",
      "  from .autonotebook import tqdm as notebook_tqdm\n"
     ]
    }
   ],
   "source": [
    "from catanatron.mcts_game import CatanGame\n",
    "from typing import Any\n",
    "from catanatron.state import State, apply_action\n",
    "from catanatron import game\n",
    "from catanatron.models.player import Color\n",
    "from catanatron.models import map\n",
    "from catanatron.players.weighted_random import WeightedRandomPlayer\n",
    "from catanatron.models.enums import ActionPrompt\n",
    "\n",
    "from catanatron.mcts_simple import Game as MCTS_Game\n",
    "from catanatron.mcts_simple import UCT\n",
    "from catanatron.models.enums import (ActionType, Action, WOOD,\n",
    "    BRICK,\n",
    "    SHEEP,\n",
    "    WHEAT,\n",
    "    ORE)\n",
    "from catanatron.models.map import build_dice_probas\n",
    "\n",
    "from catanatron.models.map import (\n",
    "    BASE_MAP_TEMPLATE,\n",
    "    MINI_MAP_TEMPLATE,\n",
    "    NUM_NODES,\n",
    "    CatanMap,\n",
    "    NodeId,\n",
    ")\n",
    "\n",
    "import torch\n",
    "from torch import nn\n",
    "\n",
    "import random"
   ]
  },
  {
   "cell_type": "code",
   "execution_count": 3,
   "metadata": {},
   "outputs": [
    {
     "name": "stderr",
     "output_type": "stream",
     "text": [
      "Training: 100%|██████████| 5000/5000 [02:04<00:00, 40.06it/s]\n"
     ]
    }
   ],
   "source": [
    "board = map.CatanMap.from_template(map.MINI_MAP_TEMPLATE)\n",
    "init_game = CatanGame(players=[WeightedRandomPlayer(Color.RED), WeightedRandomPlayer(Color.BLUE)], board=board)\n",
    "tree = UCT(game=init_game, allow_transpositions=False)\n",
    "tree.self_play(iterations=5000)\n",
    "#for key in tree.root.children.keys():\n",
    "    #print(tree.root.children[key].n, tree.game.get_state().board.map.node_production[key.value])\n"
   ]
  },
  {
   "cell_type": "code",
   "execution_count": 5,
   "metadata": {},
   "outputs": [
    {
     "name": "stderr",
     "output_type": "stream",
     "text": [
      "Training:  94%|█████████▍| 4708/5000 [20:59<00:13, 21.76it/s]   "
     ]
    }
   ],
   "source": [
    "tree.self_play(iterations=5000)"
   ]
  },
  {
   "cell_type": "code",
   "execution_count": 38,
   "metadata": {},
   "outputs": [],
   "source": [
    "DICE_PROBS = build_dice_probas()\n",
    "\n",
    "rolls = {2 :(1,1),\n",
    "         3 :(1,2),\n",
    "         4 :(1,3),\n",
    "         5 :(1,4),\n",
    "         6 :(1,5),\n",
    "         7 :(1,6),\n",
    "         8 :(2,6),\n",
    "         9 :(3,6),\n",
    "         10 :(4,6),\n",
    "         11 :(5,6),\n",
    "         12 :(6,6)}\n",
    "\n",
    "node_direction_embed = {\"NORTH\": (-1, 0), \"SOUTH\": (1,0),\n",
    "                        \"NORTHEAST\":(-1,2), \"NORTHWEST\":(-1,-2),\n",
    "                        \"SOUTHEAST\":(1,2), \"SOUTHWEST\":(1,-2)}\n",
    "\n",
    "edge_direction_embed = {\"EAST\": (0, 2), \"WEST\": (0,-2),\n",
    "                        \"NORTHEAST\":(-1,1), \"NORTHWEST\":(-1,-1),\n",
    "                        \"SOUTHEAST\":(1,1), \"SOUTHWEST\":(1,-1)}\n",
    "\n",
    "numbers = list(rolls.keys())\n",
    "probs_list = []\n",
    "for number in numbers:\n",
    "    probs_list.append(DICE_PROBS[number])"
   ]
  },
  {
   "cell_type": "code",
   "execution_count": 6,
   "metadata": {},
   "outputs": [
    {
     "name": "stdout",
     "output_type": "stream",
     "text": [
      "Action(color=<Color.RED: 'RED'>, action_type=<ActionType.BUILD_SETTLEMENT: 'BUILD_SETTLEMENT'>, value=0)\n",
      "Action(color=<Color.RED: 'RED'>, action_type=<ActionType.BUILD_ROAD: 'BUILD_ROAD'>, value=(0, 20))\n",
      "Action(color=<Color.BLUE: 'BLUE'>, action_type=<ActionType.BUILD_SETTLEMENT: 'BUILD_SETTLEMENT'>, value=3)\n",
      "Action(color=<Color.BLUE: 'BLUE'>, action_type=<ActionType.BUILD_ROAD: 'BUILD_ROAD'>, value=(3, 4))\n",
      "Action(color=<Color.BLUE: 'BLUE'>, action_type=<ActionType.BUILD_SETTLEMENT: 'BUILD_SETTLEMENT'>, value=16)\n",
      "Action(color=<Color.BLUE: 'BLUE'>, action_type=<ActionType.BUILD_ROAD: 'BUILD_ROAD'>, value=(16, 21))\n"
     ]
    }
   ],
   "source": [
    "root = tree.root\n",
    "depth = 6\n",
    "\n",
    "\n",
    "while root.children and depth > 0:\n",
    "    action = root.choose_best_action(training=False)\n",
    "    if (action.action_type == ActionType.ROLL):\n",
    "            root = root.children[action]\n",
    "            if root.is_expanded:            \n",
    "                action = Action(action.color, action.action_type, \n",
    "                            rolls[random.choices(numbers, probs_list)[0]])\n",
    "            else:\n",
    "                action = root.choose_random_action()\n",
    "    print(action)\n",
    "    \n",
    "    depth -= 1\n",
    "    root = root.children[action]\n",
    "\n",
    "    #print(root.children.keys())"
   ]
  },
  {
   "cell_type": "code",
   "execution_count": 9,
   "metadata": {},
   "outputs": [
    {
     "name": "stdout",
     "output_type": "stream",
     "text": [
      "Action(color=<Color.RED: 'RED'>, action_type=<ActionType.BUILD_SETTLEMENT: 'BUILD_SETTLEMENT'>, value=0) 0.3953333333333333\n",
      "Action(color=<Color.RED: 'RED'>, action_type=<ActionType.BUILD_SETTLEMENT: 'BUILD_SETTLEMENT'>, value=1) 0.09646666666666667\n",
      "Action(color=<Color.RED: 'RED'>, action_type=<ActionType.BUILD_SETTLEMENT: 'BUILD_SETTLEMENT'>, value=2) 0.12533333333333332\n",
      "Action(color=<Color.RED: 'RED'>, action_type=<ActionType.BUILD_SETTLEMENT: 'BUILD_SETTLEMENT'>, value=3) 0.17033333333333334\n",
      "Action(color=<Color.RED: 'RED'>, action_type=<ActionType.BUILD_SETTLEMENT: 'BUILD_SETTLEMENT'>, value=4) 0.013866666666666666\n",
      "Action(color=<Color.RED: 'RED'>, action_type=<ActionType.BUILD_SETTLEMENT: 'BUILD_SETTLEMENT'>, value=5) 0.050666666666666665\n",
      "Action(color=<Color.RED: 'RED'>, action_type=<ActionType.BUILD_SETTLEMENT: 'BUILD_SETTLEMENT'>, value=6) 0.0434\n",
      "Action(color=<Color.RED: 'RED'>, action_type=<ActionType.BUILD_SETTLEMENT: 'BUILD_SETTLEMENT'>, value=9) 0.075\n",
      "Action(color=<Color.RED: 'RED'>, action_type=<ActionType.BUILD_SETTLEMENT: 'BUILD_SETTLEMENT'>, value=7) 0.01633333333333333\n",
      "Action(color=<Color.RED: 'RED'>, action_type=<ActionType.BUILD_SETTLEMENT: 'BUILD_SETTLEMENT'>, value=8) 0.013266666666666666\n",
      "0.9999999999999999\n"
     ]
    }
   ],
   "source": [
    "root = tree.root\n",
    "sum = 0\n",
    "for action in root.children:\n",
    "    sum += root.children[action].n/root.n\n",
    "    print(action, root.children[action].n/root.n)\n",
    "print(sum)"
   ]
  },
  {
   "cell_type": "code",
   "execution_count": 11,
   "metadata": {},
   "outputs": [
    {
     "ename": "AttributeError",
     "evalue": "'str' object has no attribute 'board'",
     "output_type": "error",
     "traceback": [
      "\u001b[0;31m---------------------------------------------------------------------------\u001b[0m",
      "\u001b[0;31mAttributeError\u001b[0m                            Traceback (most recent call last)",
      "\u001b[1;32m/Users/davidfrid/Documents/catanatron/catanatron_core/catanatron/test.ipynb Cell 7\u001b[0m line \u001b[0;36m7\n\u001b[1;32m      <a href='vscode-notebook-cell:/Users/davidfrid/Documents/catanatron/catanatron_core/catanatron/test.ipynb#W6sZmlsZQ%3D%3D?line=2'>3</a>\u001b[0m board_embed \u001b[39m=\u001b[39m torch\u001b[39m.\u001b[39mzeros(\u001b[39m9\u001b[39m,\u001b[39m7\u001b[39m,\u001b[39m13\u001b[39m)\n\u001b[1;32m      <a href='vscode-notebook-cell:/Users/davidfrid/Documents/catanatron/catanatron_core/catanatron/test.ipynb#W6sZmlsZQ%3D%3D?line=4'>5</a>\u001b[0m resources_embed \u001b[39m=\u001b[39m nn\u001b[39m.\u001b[39mEmbedding(\u001b[39m6\u001b[39m, \u001b[39m4\u001b[39m)\n\u001b[0;32m----> <a href='vscode-notebook-cell:/Users/davidfrid/Documents/catanatron/catanatron_core/catanatron/test.ipynb#W6sZmlsZQ%3D%3D?line=6'>7</a>\u001b[0m board_embed \u001b[39m=\u001b[39m state_to_tensor(root\u001b[39m.\u001b[39;49mstate, board_embed, resources_embed)\n\u001b[1;32m      <a href='vscode-notebook-cell:/Users/davidfrid/Documents/catanatron/catanatron_core/catanatron/test.ipynb#W6sZmlsZQ%3D%3D?line=8'>9</a>\u001b[0m board_embed\n",
      "File \u001b[0;32m~/Documents/catanatron/catanatron_core/catanatron/torch_converter.py:88\u001b[0m, in \u001b[0;36mstate_to_tensor\u001b[0;34m(state, board_embed, resources_embed)\u001b[0m\n\u001b[1;32m     86\u001b[0m \u001b[39mdef\u001b[39;00m \u001b[39mstate_to_tensor\u001b[39m(state, board_embed, resources_embed):\n\u001b[1;32m     87\u001b[0m     center \u001b[39m=\u001b[39m (board_embed\u001b[39m.\u001b[39mshape[\u001b[39m1\u001b[39m]\u001b[39m/\u001b[39m\u001b[39m/\u001b[39m\u001b[39m2\u001b[39m, board_embed\u001b[39m.\u001b[39mshape[\u001b[39m2\u001b[39m]\u001b[39m/\u001b[39m\u001b[39m/\u001b[39m\u001b[39m2\u001b[39m)\n\u001b[0;32m---> 88\u001b[0m     board \u001b[39m=\u001b[39m state\u001b[39m.\u001b[39;49mboard\u001b[39m.\u001b[39mmap\n\u001b[1;32m     89\u001b[0m     players \u001b[39m=\u001b[39m state\u001b[39m.\u001b[39mcolor_to_index\n\u001b[1;32m     90\u001b[0m     current_player \u001b[39m=\u001b[39m state\u001b[39m.\u001b[39mcurrent_player_index\n",
      "\u001b[0;31mAttributeError\u001b[0m: 'str' object has no attribute 'board'"
     ]
    }
   ],
   "source": [
    "from catanatron.torch_converter import state_to_tensor\n",
    "\n",
    "board_embed = torch.zeros(9,7,13)\n",
    "\n",
    "resources_embed = nn.Embedding(6, 4)\n",
    "\n",
    "board_embed = state_to_tensor(root.state, board_embed, resources_embed)\n",
    "\n",
    "board_embed\n",
    "\n",
    "\n",
    "\n",
    "\n"
   ]
  },
  {
   "cell_type": "code",
   "execution_count": 9,
   "metadata": {},
   "outputs": [],
   "source": [
    "resources = {'ORE':0, 'WHEAT':1, 'SHEEP':2, 'WOOD':3, 'BRICK':4, None:5}"
   ]
  },
  {
   "cell_type": "code",
   "execution_count": 1,
   "metadata": {},
   "outputs": [
    {
     "ename": "NameError",
     "evalue": "name 'DICE_PROBS' is not defined",
     "output_type": "error",
     "traceback": [
      "\u001b[0;31m---------------------------------------------------------------------------\u001b[0m",
      "\u001b[0;31mNameError\u001b[0m                                 Traceback (most recent call last)",
      "\u001b[1;32m/Users/davidfrid/Documents/catanatron/catanatron_core/catanatron/test.ipynb Cell 9\u001b[0m line \u001b[0;36m1\n\u001b[0;32m----> <a href='vscode-notebook-cell:/Users/davidfrid/Documents/catanatron/catanatron_core/catanatron/test.ipynb#X11sZmlsZQ%3D%3D?line=0'>1</a>\u001b[0m \u001b[39mprint\u001b[39m(DICE_PROBS)\n",
      "\u001b[0;31mNameError\u001b[0m: name 'DICE_PROBS' is not defined"
     ]
    }
   ],
   "source": [
    "print(DICE_PROBS)"
   ]
  }
 ],
 "metadata": {
  "kernelspec": {
   "display_name": "pymc_env",
   "language": "python",
   "name": "python3"
  },
  "language_info": {
   "codemirror_mode": {
    "name": "ipython",
    "version": 3
   },
   "file_extension": ".py",
   "mimetype": "text/x-python",
   "name": "python",
   "nbconvert_exporter": "python",
   "pygments_lexer": "ipython3",
   "version": "3.11.8"
  },
  "orig_nbformat": 4
 },
 "nbformat": 4,
 "nbformat_minor": 2
}
