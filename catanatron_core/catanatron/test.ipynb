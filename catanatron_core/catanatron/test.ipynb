{
 "cells": [
  {
   "cell_type": "code",
   "execution_count": 7,
   "metadata": {},
   "outputs": [],
   "source": [
    "from catanatron.mcts_game import CatanGame\n",
    "from typing import Any\n",
    "from catanatron.state import State, apply_action\n",
    "from catanatron import game\n",
    "from catanatron.models.player import Color\n",
    "from catanatron.models import map\n",
    "from catanatron.players.weighted_random import WeightedRandomPlayer\n",
    "from catanatron.models.enums import ActionPrompt\n",
    "\n",
    "from catanatron.mcts_simple import Game as MCTS_Game\n",
    "from catanatron.mcts_simple import UCT\n",
    "from catanatron.models.enums import (ActionType, Action, WOOD,\n",
    "    BRICK,\n",
    "    SHEEP,\n",
    "    WHEAT,\n",
    "    ORE)\n",
    "from catanatron.models.map import build_dice_probas\n",
    "\n",
    "from catanatron.models.map import (\n",
    "    BASE_MAP_TEMPLATE,\n",
    "    MINI_MAP_TEMPLATE,\n",
    "    NUM_NODES,\n",
    "    CatanMap,\n",
    "    NodeId,\n",
    ")\n",
    "\n",
    "import torch\n",
    "from torch import nn\n",
    "\n",
    "import random"
   ]
  },
  {
   "cell_type": "code",
   "execution_count": 8,
   "metadata": {},
   "outputs": [
    {
     "name": "stderr",
     "output_type": "stream",
     "text": [
      "Training:  49%|████▊     | 2431/5000 [00:38<00:43, 59.15it/s]"
     ]
    }
   ],
   "source": [
    "board = map.CatanMap.from_template(map.MINI_MAP_TEMPLATE)\n",
    "init_game = CatanGame(players=[WeightedRandomPlayer(Color.RED), WeightedRandomPlayer(Color.BLUE)], board=board)\n",
    "tree = UCT(game=init_game, allow_transpositions=False)\n",
    "tree.self_play(iterations=5000)\n",
    "#for key in tree.root.children.keys():\n",
    "    #print(tree.root.children[key].n, tree.game.get_state().board.map.node_production[key.value])\n"
   ]
  },
  {
   "cell_type": "code",
   "execution_count": 5,
   "metadata": {},
   "outputs": [
    {
     "name": "stderr",
     "output_type": "stream",
     "text": [
      "Training: 100%|██████████| 5000/5000 [24:50<00:00,  3.35it/s]   \n"
     ]
    }
   ],
   "source": [
    "tree.self_play(iterations=5000)"
   ]
  },
  {
   "cell_type": "code",
   "execution_count": 38,
   "metadata": {},
   "outputs": [],
   "source": [
    "DICE_PROBS = build_dice_probas()\n",
    "\n",
    "rolls = {2 :(1,1),\n",
    "         3 :(1,2),\n",
    "         4 :(1,3),\n",
    "         5 :(1,4),\n",
    "         6 :(1,5),\n",
    "         7 :(1,6),\n",
    "         8 :(2,6),\n",
    "         9 :(3,6),\n",
    "         10 :(4,6),\n",
    "         11 :(5,6),\n",
    "         12 :(6,6)}\n",
    "\n",
    "node_direction_embed = {\"NORTH\": (-1, 0), \"SOUTH\": (1,0),\n",
    "                        \"NORTHEAST\":(-1,2), \"NORTHWEST\":(-1,-2),\n",
    "                        \"SOUTHEAST\":(1,2), \"SOUTHWEST\":(1,-2)}\n",
    "\n",
    "edge_direction_embed = {\"EAST\": (0, 2), \"WEST\": (0,-2),\n",
    "                        \"NORTHEAST\":(-1,1), \"NORTHWEST\":(-1,-1),\n",
    "                        \"SOUTHEAST\":(1,1), \"SOUTHWEST\":(1,-1)}\n",
    "\n",
    "numbers = list(rolls.keys())\n",
    "probs_list = []\n",
    "for number in numbers:\n",
    "    probs_list.append(DICE_PROBS[number])"
   ]
  },
  {
   "cell_type": "code",
   "execution_count": 52,
   "metadata": {},
   "outputs": [
    {
     "name": "stdout",
     "output_type": "stream",
     "text": [
      "Action(color=<Color.RED: 'RED'>, action_type=<ActionType.BUILD_SETTLEMENT: 'BUILD_SETTLEMENT'>, value=3)\n",
      "Action(color=<Color.RED: 'RED'>, action_type=<ActionType.BUILD_ROAD: 'BUILD_ROAD'>, value=(2, 3))\n",
      "Action(color=<Color.BLUE: 'BLUE'>, action_type=<ActionType.BUILD_SETTLEMENT: 'BUILD_SETTLEMENT'>, value=5)\n",
      "Action(color=<Color.BLUE: 'BLUE'>, action_type=<ActionType.BUILD_ROAD: 'BUILD_ROAD'>, value=(4, 5))\n",
      "Action(color=<Color.BLUE: 'BLUE'>, action_type=<ActionType.BUILD_SETTLEMENT: 'BUILD_SETTLEMENT'>, value=15)\n",
      "Action(color=<Color.BLUE: 'BLUE'>, action_type=<ActionType.BUILD_ROAD: 'BUILD_ROAD'>, value=(14, 15))\n"
     ]
    }
   ],
   "source": [
    "root = tree.root\n",
    "depth = 6\n",
    "\n",
    "\n",
    "while root.children and depth > 0:\n",
    "    action = root.choose_best_action(training=False)\n",
    "    if (action.action_type == ActionType.ROLL):\n",
    "            root = root.children[action]\n",
    "            if root.is_expanded:            \n",
    "                action = Action(action.color, action.action_type, \n",
    "                            rolls[random.choices(numbers, probs_list)[0]])\n",
    "            else:\n",
    "                action = root.choose_random_action()\n",
    "    print(action)\n",
    "    \n",
    "    depth -= 1\n",
    "    root = root.children[action]\n",
    "\n",
    "    #print(root.children.keys())"
   ]
  },
  {
   "cell_type": "code",
   "execution_count": 6,
   "metadata": {},
   "outputs": [
    {
     "ename": "NameError",
     "evalue": "name 'root' is not defined",
     "output_type": "error",
     "traceback": [
      "\u001b[0;31m---------------------------------------------------------------------------\u001b[0m",
      "\u001b[0;31mNameError\u001b[0m                                 Traceback (most recent call last)",
      "\u001b[1;32m/Users/davidfrid/Documents/catanatron/catanatron_core/catanatron/test.ipynb Cell 6\u001b[0m line \u001b[0;36m1\n\u001b[0;32m----> <a href='vscode-notebook-cell:/Users/davidfrid/Documents/catanatron/catanatron_core/catanatron/test.ipynb#X15sZmlsZQ%3D%3D?line=0'>1</a>\u001b[0m \u001b[39mfor\u001b[39;00m action \u001b[39min\u001b[39;00m root\u001b[39m.\u001b[39mchildren:\n\u001b[1;32m      <a href='vscode-notebook-cell:/Users/davidfrid/Documents/catanatron/catanatron_core/catanatron/test.ipynb#X15sZmlsZQ%3D%3D?line=1'>2</a>\u001b[0m     \u001b[39mprint\u001b[39m(action, root\u001b[39m.\u001b[39mchildren[action]\u001b[39m.\u001b[39mn\u001b[39m/\u001b[39mroot\u001b[39m.\u001b[39mn)\n",
      "\u001b[0;31mNameError\u001b[0m: name 'root' is not defined"
     ]
    }
   ],
   "source": [
    "for action in root.children:\n",
    "    print(action, root.children[action].n/root.n)"
   ]
  },
  {
   "cell_type": "code",
   "execution_count": 48,
   "metadata": {},
   "outputs": [
    {
     "data": {
      "text/plain": [
       "tensor([[[ 0.0000,  0.0000,  0.0000,  0.0000,  0.0000,  0.0000,  0.0000,\n",
       "           0.0000,  0.0000,  0.0000,  0.0000,  0.0000,  0.0000],\n",
       "         [ 0.0000,  0.0000,  0.0000,  0.0000,  1.4794,  0.0000,  0.0000,\n",
       "           0.0000,  0.8890,  0.0000,  0.0000,  0.0000,  0.0000],\n",
       "         [ 0.0000,  0.0000,  0.0000,  0.0000, -1.0000,  0.0000,  0.0000,\n",
       "           0.0000,  0.0000,  0.0000,  0.0000,  0.0000,  0.0000],\n",
       "         [ 0.0000,  0.0000, -0.9866,  0.0000,  0.0000,  0.0000,  1.4794,\n",
       "           0.0000,  0.0000,  0.0000, -1.7887,  0.0000,  0.0000],\n",
       "         [ 0.0000,  0.0000, -1.0000,  0.0000,  0.0000,  0.0000,  1.0000,\n",
       "           0.0000,  0.0000,  0.0000,  1.0000,  0.0000,  0.0000],\n",
       "         [ 0.0000,  0.0000,  0.0000,  0.0000, -0.4439,  0.0000,  0.0000,\n",
       "           0.0000,  0.4405,  0.0000,  0.0000,  0.0000,  0.0000],\n",
       "         [ 0.0000,  0.0000,  0.0000,  0.0000,  0.0000,  0.0000,  0.0000,\n",
       "           0.0000,  0.0000,  0.0000,  0.0000,  0.0000,  0.0000]],\n",
       "\n",
       "        [[ 0.0000,  0.0000,  0.0000,  0.0000,  0.0000,  0.0000,  0.0000,\n",
       "           0.0000,  0.0000,  0.0000,  0.0000,  0.0000,  0.0000],\n",
       "         [ 0.0000,  0.0000,  0.0000,  0.0000,  0.9725,  0.0000,  0.0000,\n",
       "           0.0000, -0.1514,  0.0000,  0.0000,  0.0000,  0.0000],\n",
       "         [ 0.0000,  0.0000,  0.0000,  0.0000, -1.0000,  0.0000,  0.0000,\n",
       "           0.0000,  0.0000,  0.0000,  0.0000,  0.0000,  0.0000],\n",
       "         [ 0.0000,  0.0000, -0.7337,  0.0000,  0.0000,  0.0000,  0.9725,\n",
       "           0.0000,  0.0000,  0.0000,  0.6113,  0.0000,  0.0000],\n",
       "         [ 0.0000,  0.0000, -1.0000,  0.0000,  0.0000,  0.0000,  1.0000,\n",
       "           0.0000,  0.0000,  0.0000,  1.0000,  0.0000,  0.0000],\n",
       "         [ 0.0000,  0.0000,  0.0000,  0.0000,  0.5302,  0.0000,  0.0000,\n",
       "           0.0000,  0.0774,  0.0000,  0.0000,  0.0000,  0.0000],\n",
       "         [ 0.0000,  0.0000,  0.0000,  0.0000,  0.0000,  0.0000,  0.0000,\n",
       "           0.0000,  0.0000,  0.0000,  0.0000,  0.0000,  0.0000]],\n",
       "\n",
       "        [[ 0.0000,  0.0000,  0.0000,  0.0000,  0.0000,  0.0000,  0.0000,\n",
       "           0.0000,  0.0000,  0.0000,  0.0000,  0.0000,  0.0000],\n",
       "         [ 0.0000,  0.0000,  0.0000,  0.0000,  1.0200,  0.0000,  0.0000,\n",
       "           0.0000, -0.8457,  0.0000,  0.0000,  0.0000,  0.0000],\n",
       "         [ 0.0000,  0.0000,  0.0000,  0.0000, -1.0000,  0.0000,  0.0000,\n",
       "           0.0000,  0.0000,  0.0000,  0.0000,  0.0000,  0.0000],\n",
       "         [ 0.0000,  0.0000, -1.7774,  0.0000,  0.0000,  0.0000,  1.0200,\n",
       "           0.0000,  0.0000,  0.0000,  0.6233,  0.0000,  0.0000],\n",
       "         [ 0.0000,  0.0000, -1.0000,  0.0000,  0.0000,  0.0000,  1.0000,\n",
       "           0.0000,  0.0000,  0.0000,  1.0000,  0.0000,  0.0000],\n",
       "         [ 0.0000,  0.0000,  0.0000,  0.0000, -1.3524,  0.0000,  0.0000,\n",
       "           0.0000, -1.0265,  0.0000,  0.0000,  0.0000,  0.0000],\n",
       "         [ 0.0000,  0.0000,  0.0000,  0.0000,  0.0000,  0.0000,  0.0000,\n",
       "           0.0000,  0.0000,  0.0000,  0.0000,  0.0000,  0.0000]],\n",
       "\n",
       "        [[ 0.0000,  0.0000,  0.0000,  0.0000,  0.0000,  0.0000,  0.0000,\n",
       "           0.0000,  0.0000,  0.0000,  0.0000,  0.0000,  0.0000],\n",
       "         [ 0.0000,  0.0000,  0.0000,  0.0000, -0.7670,  0.0000,  0.0000,\n",
       "           0.0000,  0.3758,  0.0000,  0.0000,  0.0000,  0.0000],\n",
       "         [ 0.0000,  0.0000,  0.0000,  0.0000, -1.0000,  0.0000,  0.0000,\n",
       "           0.0000,  0.0000,  0.0000,  0.0000,  0.0000,  0.0000],\n",
       "         [ 0.0000,  0.0000, -0.5032,  0.0000,  0.0000,  0.0000, -0.7670,\n",
       "           0.0000,  0.0000,  0.0000, -0.9663,  0.0000,  0.0000],\n",
       "         [ 0.0000,  0.0000, -1.0000,  0.0000,  0.0000,  0.0000,  1.0000,\n",
       "           0.0000,  0.0000,  0.0000,  1.0000,  0.0000,  0.0000],\n",
       "         [ 0.0000,  0.0000,  0.0000,  0.0000, -0.7967,  0.0000,  0.0000,\n",
       "           0.0000, -0.3323,  0.0000,  0.0000,  0.0000,  0.0000],\n",
       "         [ 0.0000,  0.0000,  0.0000,  0.0000,  0.0000,  0.0000,  0.0000,\n",
       "           0.0000,  0.0000,  0.0000,  0.0000,  0.0000,  0.0000]],\n",
       "\n",
       "        [[ 0.0000,  0.0000,  0.0000,  0.0000,  0.0000,  0.0000,  0.0000,\n",
       "           0.0000,  0.0000,  0.0000,  0.0000,  0.0000,  0.0000],\n",
       "         [ 0.0000,  0.0000,  0.0000,  0.0000,  0.0000,  0.0000,  0.0000,\n",
       "           0.0000,  1.0000,  0.0000,  0.0000,  0.0000,  0.0000],\n",
       "         [ 0.0000,  0.0000,  0.0000,  0.0000,  0.0000,  0.0000,  0.0000,\n",
       "           0.0000,  0.0000,  0.0000,  0.0000,  0.0000,  0.0000],\n",
       "         [ 0.0000,  0.0000,  0.0000,  0.0000,  0.0000,  0.0000,  0.0000,\n",
       "           0.0000,  0.0000,  0.0000,  0.0000,  0.0000,  0.0000],\n",
       "         [ 0.0000,  0.0000,  0.0000,  0.0000,  0.0000,  0.0000,  0.0000,\n",
       "           0.0000,  0.0000,  0.0000,  0.0000,  0.0000,  0.0000],\n",
       "         [ 0.0000,  0.0000,  0.0000,  0.0000,  0.0000,  0.0000,  0.0000,\n",
       "           0.0000,  0.0000,  0.0000,  0.0000,  0.0000,  0.0000],\n",
       "         [ 0.0000,  0.0000,  0.0000,  0.0000,  0.0000,  0.0000,  0.0000,\n",
       "           0.0000,  0.0000,  0.0000,  0.0000,  0.0000,  0.0000]],\n",
       "\n",
       "        [[ 2.0000,  2.0000,  2.0000,  2.0000,  2.0000,  2.0000,  2.0000,\n",
       "           2.0000,  2.0000,  2.0000,  2.0000,  2.0000,  2.0000],\n",
       "         [ 2.0000,  2.0000,  2.0000,  2.0000,  2.0000,  2.0000,  2.0000,\n",
       "           2.0000,  2.0000,  2.0000,  2.0000,  2.0000,  2.0000],\n",
       "         [ 2.0000,  2.0000,  2.0000,  2.0000,  2.0000,  2.0000,  2.0000,\n",
       "           2.0000,  2.0000,  2.0000,  2.0000,  2.0000,  2.0000],\n",
       "         [ 2.0000,  2.0000,  2.0000,  2.0000,  2.0000,  2.0000,  2.0000,\n",
       "           2.0000,  2.0000,  2.0000,  2.0000,  2.0000,  2.0000],\n",
       "         [ 2.0000,  2.0000,  2.0000,  2.0000,  2.0000,  2.0000,  2.0000,\n",
       "           2.0000,  2.0000,  2.0000,  2.0000,  2.0000,  2.0000],\n",
       "         [ 2.0000,  2.0000,  2.0000,  2.0000,  2.0000,  2.0000,  2.0000,\n",
       "           2.0000,  2.0000,  2.0000,  2.0000,  2.0000,  2.0000],\n",
       "         [ 2.0000,  2.0000,  2.0000,  2.0000,  2.0000,  2.0000,  2.0000,\n",
       "           2.0000,  2.0000,  2.0000,  2.0000,  2.0000,  2.0000]],\n",
       "\n",
       "        [[ 2.0000,  2.0000,  2.0000,  2.0000,  2.0000,  2.0000,  2.0000,\n",
       "           2.0000,  2.0000,  2.0000,  2.0000,  2.0000,  2.0000],\n",
       "         [ 2.0000,  2.0000,  2.0000,  2.0000,  2.0000,  2.0000,  2.0000,\n",
       "           2.0000,  2.0000,  2.0000,  2.0000,  2.0000,  2.0000],\n",
       "         [ 2.0000,  2.0000,  2.0000,  2.0000,  2.0000,  2.0000,  2.0000,\n",
       "           2.0000,  2.0000,  2.0000,  2.0000,  2.0000,  2.0000],\n",
       "         [ 2.0000,  2.0000,  2.0000,  2.0000,  2.0000,  2.0000,  2.0000,\n",
       "           2.0000,  2.0000,  2.0000,  2.0000,  2.0000,  2.0000],\n",
       "         [ 2.0000,  2.0000,  2.0000,  2.0000,  2.0000,  2.0000,  2.0000,\n",
       "           2.0000,  2.0000,  2.0000,  2.0000,  2.0000,  2.0000],\n",
       "         [ 2.0000,  2.0000,  2.0000,  2.0000,  2.0000,  2.0000,  2.0000,\n",
       "           2.0000,  2.0000,  2.0000,  2.0000,  2.0000,  2.0000],\n",
       "         [ 2.0000,  2.0000,  2.0000,  2.0000,  2.0000,  2.0000,  2.0000,\n",
       "           2.0000,  2.0000,  2.0000,  2.0000,  2.0000,  2.0000]],\n",
       "\n",
       "        [[ 0.0000,  0.0000,  0.0000,  0.0000,  0.0000,  0.0000,  0.0000,\n",
       "           0.0000,  0.0000,  0.0000,  0.0000,  0.0000,  0.0000],\n",
       "         [ 0.0000,  0.0000,  0.0000,  0.0000,  0.0000,  0.0000,  0.0000,\n",
       "           0.0000,  0.0000,  0.0000,  0.0000,  0.0000,  0.0000],\n",
       "         [ 0.0000,  0.0000,  0.0000,  0.0000,  0.0000,  0.0000,  0.0000,\n",
       "           0.0000,  0.0000,  0.0000,  0.0000,  0.0000,  0.0000],\n",
       "         [ 0.0000,  0.0000,  0.0000,  0.0000,  0.0000,  0.0000,  0.0000,\n",
       "           0.0000,  0.0000,  0.0000,  0.0000,  0.0000,  0.0000],\n",
       "         [ 0.0000,  0.0000,  0.0000,  0.0000,  0.0000,  0.0000,  0.0000,\n",
       "           0.0000,  0.0000,  0.0000,  0.0000,  0.0000,  0.0000],\n",
       "         [ 0.0000,  0.0000,  0.0000,  0.0000,  0.0000,  0.0000,  0.0000,\n",
       "           0.0000,  0.0000,  0.0000,  0.0000,  0.0000,  0.0000],\n",
       "         [ 0.0000,  0.0000,  0.0000,  0.0000,  0.0000,  0.0000,  0.0000,\n",
       "           0.0000,  0.0000,  0.0000,  0.0000,  0.0000,  0.0000]],\n",
       "\n",
       "        [[ 0.0000,  0.0000,  0.0000,  0.0000,  0.0000,  0.0000,  0.0000,\n",
       "           0.0000,  0.0000,  0.0000,  0.0000,  0.0000,  0.0000],\n",
       "         [ 0.0000,  0.0000,  0.0000,  0.0000,  0.0000,  0.0000,  0.0000,\n",
       "           0.0000,  0.0000,  0.0000,  0.0000,  0.0000,  0.0000],\n",
       "         [ 0.0000,  0.0000,  0.0000,  0.0000,  0.0000,  0.0000,  0.0000,\n",
       "           0.0000,  0.0000,  0.0000,  0.0000,  0.0000,  0.0000],\n",
       "         [ 0.0000,  0.0000,  0.0000,  0.0000,  0.0000,  0.0000,  0.0000,\n",
       "           0.0000,  0.0000,  0.0000,  0.0000,  0.0000,  0.0000],\n",
       "         [ 0.0000,  0.0000,  0.0000,  0.0000,  0.0000,  0.0000,  0.0000,\n",
       "           0.0000,  0.0000,  0.0000,  0.0000,  0.0000,  0.0000],\n",
       "         [ 0.0000,  0.0000,  0.0000,  0.0000,  0.0000,  0.0000,  0.0000,\n",
       "           0.0000,  0.0000,  0.0000,  0.0000,  0.0000,  0.0000],\n",
       "         [ 0.0000,  0.0000,  0.0000,  0.0000,  0.0000,  0.0000,  0.0000,\n",
       "           0.0000,  0.0000,  0.0000,  0.0000,  0.0000,  0.0000]]],\n",
       "       grad_fn=<CopySlices>)"
      ]
     },
     "execution_count": 48,
     "metadata": {},
     "output_type": "execute_result"
    }
   ],
   "source": [
    "from catanatron.torch_converter import state_to_tensor\n",
    "\n",
    "board_embed = torch.zeros(9,7,13)\n",
    "\n",
    "resources_embed = nn.Embedding(6, 4)\n",
    "\n",
    "board_embed = state_to_tensor(root.state, board_embed, resources_embed)\n",
    "\n",
    "board_embed\n",
    "\n",
    "\n",
    "\n",
    "\n"
   ]
  },
  {
   "cell_type": "code",
   "execution_count": 9,
   "metadata": {},
   "outputs": [],
   "source": [
    "resources = {'ORE':0, 'WHEAT':1, 'SHEEP':2, 'WOOD':3, 'BRICK':4, None:5}"
   ]
  },
  {
   "cell_type": "code",
   "execution_count": null,
   "metadata": {},
   "outputs": [],
   "source": []
  }
 ],
 "metadata": {
  "kernelspec": {
   "display_name": "pymc_env",
   "language": "python",
   "name": "python3"
  },
  "language_info": {
   "codemirror_mode": {
    "name": "ipython",
    "version": 3
   },
   "file_extension": ".py",
   "mimetype": "text/x-python",
   "name": "python",
   "nbconvert_exporter": "python",
   "pygments_lexer": "ipython3",
   "version": "3.11.8"
  },
  "orig_nbformat": 4
 },
 "nbformat": 4,
 "nbformat_minor": 2
}
